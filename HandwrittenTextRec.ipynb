{
  "nbformat": 4,
  "nbformat_minor": 0,
  "metadata": {
    "colab": {
      "provenance": [],
      "gpuType": "T4",
      "authorship_tag": "ABX9TyOloi0uF2weP7vfzUwVVefk",
      "include_colab_link": true
    },
    "kernelspec": {
      "name": "python3",
      "display_name": "Python 3"
    },
    "language_info": {
      "name": "python"
    },
    "accelerator": "GPU"
  },
  "cells": [
    {
      "cell_type": "markdown",
      "metadata": {
        "id": "view-in-github",
        "colab_type": "text"
      },
      "source": [
        "<a href=\"https://colab.research.google.com/github/Rakitin11/handwrittenDigitsRec/blob/main/HandwrittenTextRec.ipynb\" target=\"_parent\"><img src=\"https://colab.research.google.com/assets/colab-badge.svg\" alt=\"Open In Colab\"/></a>"
      ]
    },
    {
      "cell_type": "code",
      "execution_count": 22,
      "metadata": {
        "id": "WIRXt3WIPgrk"
      },
      "outputs": [],
      "source": [
        "import numpy as np\n",
        "from urllib.request import urlopen\n",
        "\n",
        "\n"
      ]
    },
    {
      "cell_type": "code",
      "source": [
        "# URLs\n",
        "train_url = 'https://archive.ics.uci.edu/ml/machine-learning-databases/optdigits/optdigits.tra'\n",
        "test_url = 'https://archive.ics.uci.edu/ml/machine-learning-databases/optdigits/optdigits.tes'\n",
        "\n",
        "# Load data from URL\n",
        "train_data = np.loadtxt(urlopen(train_url), delimiter=',')\n",
        "test_data = np.loadtxt(urlopen(test_url), delimiter=',')\n",
        "\n",
        "# Split features and labels\n",
        "X_train = train_data[:, :-1]\n",
        "y_train = train_data[:, -1].astype(int).reshape(-1, 1)\n",
        "\n",
        "X_test = test_data[:, :-1]\n",
        "y_test = test_data[:, -1].astype(int).reshape(-1, 1)\n",
        "\n",
        "# Normalize pixel values (0-16)\n",
        "X_train = X_train / 16.0\n",
        "X_test = X_test / 16.0\n"
      ],
      "metadata": {
        "id": "qUSxwxTiPqCi"
      },
      "execution_count": 23,
      "outputs": []
    },
    {
      "cell_type": "code",
      "source": [
        "from sklearn.preprocessing import OneHotEncoder\n",
        "\n",
        "encoder = OneHotEncoder(sparse_output=False)\n",
        "y_train_oh = encoder.fit_transform(y_train)\n",
        "y_test_oh = encoder.transform(y_test)\n"
      ],
      "metadata": {
        "id": "uHIEV5mjPtk5"
      },
      "execution_count": 24,
      "outputs": []
    },
    {
      "cell_type": "code",
      "source": [
        "def relu(x):\n",
        "    return np.maximum(0, x)\n",
        "\n",
        "def relu_derivative(x):\n",
        "    return (x > 0).astype(float)\n",
        "\n",
        "def softmax(x):\n",
        "    exp_x = np.exp(x - np.max(x, axis=1, keepdims=True))\n",
        "    return exp_x / np.sum(exp_x, axis=1, keepdims=True)\n",
        "\n",
        "def cross_entropy(y_true, y_pred):\n",
        "    return -np.mean(np.sum(y_true * np.log(y_pred + 1e-8), axis=1))\n",
        "\n",
        "def accuracy(y_true, y_pred):\n",
        "    return np.mean(np.argmax(y_true, axis=1) == np.argmax(y_pred, axis=1))\n"
      ],
      "metadata": {
        "id": "6qR7Tj-_Pwq6"
      },
      "execution_count": 25,
      "outputs": []
    },
    {
      "cell_type": "code",
      "source": [
        "np.random.seed(42)\n",
        "\n",
        "input_size = X_train.shape[1]  # should be 64\n",
        "hidden_size = 64\n",
        "output_size = 10\n",
        "learning_rate = 0.01\n",
        "epochs = 1000\n",
        "\n",
        "W1 = np.random.randn(input_size, hidden_size) * np.sqrt(2. / input_size)\n",
        "b1 = np.zeros((1, hidden_size))\n",
        "W2 = np.random.randn(hidden_size, output_size) * np.sqrt(2. / hidden_size)\n",
        "b2 = np.zeros((1, output_size))\n"
      ],
      "metadata": {
        "id": "T3s8NLj2P2PZ"
      },
      "execution_count": 26,
      "outputs": []
    },
    {
      "cell_type": "code",
      "source": [
        "for epoch in range(epochs):\n",
        "    # Forward pass\n",
        "    z1 = np.dot(X_train, W1) + b1\n",
        "    a1 = relu(z1)\n",
        "    z2 = np.dot(a1, W2) + b2\n",
        "    a2 = softmax(z2)\n",
        "\n",
        "    # Loss and accuracy\n",
        "    loss = cross_entropy(y_train_oh, a2)\n",
        "    acc = accuracy(y_train_oh, a2)\n",
        "\n",
        "    # Backpropagation\n",
        "    delta2 = (a2 - y_train_oh) / X_train.shape[0]\n",
        "    dW2 = np.dot(a1.T, delta2)\n",
        "    db2 = np.sum(delta2, axis=0, keepdims=True)\n",
        "\n",
        "    delta1 = np.dot(delta2, W2.T) * relu_derivative(a1)\n",
        "    dW1 = np.dot(X_train.T, delta1)\n",
        "    db1 = np.sum(delta1, axis=0, keepdims=True)\n",
        "\n",
        "    # Update weights\n",
        "    W2 -= learning_rate * dW2\n",
        "    b2 -= learning_rate * db2\n",
        "    W1 -= learning_rate * dW1\n",
        "    b1 -= learning_rate * db1\n",
        "\n",
        "    # Print every 10 epochs\n",
        "    if (epoch + 1) % 10 == 0:\n",
        "        print(f'Epoch {epoch + 1}/{epochs} - Loss: {loss:.4f} - Accuracy: {acc:.4f}')\n",
        "\n"
      ],
      "metadata": {
        "colab": {
          "base_uri": "https://localhost:8080/"
        },
        "id": "7l4tO1lCP9Ev",
        "outputId": "66115f26-2559-4b68-e952-04468f9802d0"
      },
      "execution_count": 27,
      "outputs": [
        {
          "output_type": "stream",
          "name": "stdout",
          "text": [
            "Epoch 10/1000 - Loss: 2.3120 - Accuracy: 0.1310\n",
            "Epoch 20/1000 - Loss: 2.2634 - Accuracy: 0.1525\n",
            "Epoch 30/1000 - Loss: 2.2189 - Accuracy: 0.1807\n",
            "Epoch 40/1000 - Loss: 2.1775 - Accuracy: 0.2161\n",
            "Epoch 50/1000 - Loss: 2.1381 - Accuracy: 0.2595\n",
            "Epoch 60/1000 - Loss: 2.1004 - Accuracy: 0.2943\n",
            "Epoch 70/1000 - Loss: 2.0639 - Accuracy: 0.3291\n",
            "Epoch 80/1000 - Loss: 2.0285 - Accuracy: 0.3597\n",
            "Epoch 90/1000 - Loss: 1.9940 - Accuracy: 0.3971\n",
            "Epoch 100/1000 - Loss: 1.9602 - Accuracy: 0.4240\n",
            "Epoch 110/1000 - Loss: 1.9269 - Accuracy: 0.4549\n",
            "Epoch 120/1000 - Loss: 1.8942 - Accuracy: 0.4844\n",
            "Epoch 130/1000 - Loss: 1.8620 - Accuracy: 0.5109\n",
            "Epoch 140/1000 - Loss: 1.8303 - Accuracy: 0.5394\n",
            "Epoch 150/1000 - Loss: 1.7989 - Accuracy: 0.5598\n",
            "Epoch 160/1000 - Loss: 1.7681 - Accuracy: 0.5828\n",
            "Epoch 170/1000 - Loss: 1.7377 - Accuracy: 0.6006\n",
            "Epoch 180/1000 - Loss: 1.7077 - Accuracy: 0.6181\n",
            "Epoch 190/1000 - Loss: 1.6781 - Accuracy: 0.6375\n",
            "Epoch 200/1000 - Loss: 1.6488 - Accuracy: 0.6552\n",
            "Epoch 210/1000 - Loss: 1.6200 - Accuracy: 0.6702\n",
            "Epoch 220/1000 - Loss: 1.5916 - Accuracy: 0.6872\n",
            "Epoch 230/1000 - Loss: 1.5635 - Accuracy: 0.7002\n",
            "Epoch 240/1000 - Loss: 1.5359 - Accuracy: 0.7123\n",
            "Epoch 250/1000 - Loss: 1.5087 - Accuracy: 0.7259\n",
            "Epoch 260/1000 - Loss: 1.4819 - Accuracy: 0.7350\n",
            "Epoch 270/1000 - Loss: 1.4555 - Accuracy: 0.7437\n",
            "Epoch 280/1000 - Loss: 1.4296 - Accuracy: 0.7560\n",
            "Epoch 290/1000 - Loss: 1.4041 - Accuracy: 0.7648\n",
            "Epoch 300/1000 - Loss: 1.3790 - Accuracy: 0.7732\n",
            "Epoch 310/1000 - Loss: 1.3544 - Accuracy: 0.7834\n",
            "Epoch 320/1000 - Loss: 1.3302 - Accuracy: 0.7913\n",
            "Epoch 330/1000 - Loss: 1.3065 - Accuracy: 0.7994\n",
            "Epoch 340/1000 - Loss: 1.2832 - Accuracy: 0.8070\n",
            "Epoch 350/1000 - Loss: 1.2603 - Accuracy: 0.8111\n",
            "Epoch 360/1000 - Loss: 1.2379 - Accuracy: 0.8187\n",
            "Epoch 370/1000 - Loss: 1.2159 - Accuracy: 0.8245\n",
            "Epoch 380/1000 - Loss: 1.1944 - Accuracy: 0.8292\n",
            "Epoch 390/1000 - Loss: 1.1733 - Accuracy: 0.8357\n",
            "Epoch 400/1000 - Loss: 1.1527 - Accuracy: 0.8407\n",
            "Epoch 410/1000 - Loss: 1.1325 - Accuracy: 0.8470\n",
            "Epoch 420/1000 - Loss: 1.1128 - Accuracy: 0.8533\n",
            "Epoch 430/1000 - Loss: 1.0935 - Accuracy: 0.8548\n",
            "Epoch 440/1000 - Loss: 1.0746 - Accuracy: 0.8580\n",
            "Epoch 450/1000 - Loss: 1.0562 - Accuracy: 0.8648\n",
            "Epoch 460/1000 - Loss: 1.0383 - Accuracy: 0.8687\n",
            "Epoch 470/1000 - Loss: 1.0208 - Accuracy: 0.8721\n",
            "Epoch 480/1000 - Loss: 1.0037 - Accuracy: 0.8742\n",
            "Epoch 490/1000 - Loss: 0.9870 - Accuracy: 0.8784\n",
            "Epoch 500/1000 - Loss: 0.9708 - Accuracy: 0.8810\n",
            "Epoch 510/1000 - Loss: 0.9550 - Accuracy: 0.8839\n",
            "Epoch 520/1000 - Loss: 0.9396 - Accuracy: 0.8867\n",
            "Epoch 530/1000 - Loss: 0.9246 - Accuracy: 0.8883\n",
            "Epoch 540/1000 - Loss: 0.9100 - Accuracy: 0.8899\n",
            "Epoch 550/1000 - Loss: 0.8959 - Accuracy: 0.8904\n",
            "Epoch 560/1000 - Loss: 0.8820 - Accuracy: 0.8928\n",
            "Epoch 570/1000 - Loss: 0.8686 - Accuracy: 0.8954\n",
            "Epoch 580/1000 - Loss: 0.8555 - Accuracy: 0.8969\n",
            "Epoch 590/1000 - Loss: 0.8428 - Accuracy: 0.8980\n",
            "Epoch 600/1000 - Loss: 0.8304 - Accuracy: 0.8990\n",
            "Epoch 610/1000 - Loss: 0.8183 - Accuracy: 0.9014\n",
            "Epoch 620/1000 - Loss: 0.8066 - Accuracy: 0.9019\n",
            "Epoch 630/1000 - Loss: 0.7951 - Accuracy: 0.9022\n",
            "Epoch 640/1000 - Loss: 0.7840 - Accuracy: 0.9022\n",
            "Epoch 650/1000 - Loss: 0.7731 - Accuracy: 0.9024\n",
            "Epoch 660/1000 - Loss: 0.7625 - Accuracy: 0.9030\n",
            "Epoch 670/1000 - Loss: 0.7523 - Accuracy: 0.9043\n",
            "Epoch 680/1000 - Loss: 0.7422 - Accuracy: 0.9050\n",
            "Epoch 690/1000 - Loss: 0.7325 - Accuracy: 0.9053\n",
            "Epoch 700/1000 - Loss: 0.7229 - Accuracy: 0.9074\n",
            "Epoch 710/1000 - Loss: 0.7136 - Accuracy: 0.9082\n",
            "Epoch 720/1000 - Loss: 0.7046 - Accuracy: 0.9095\n",
            "Epoch 730/1000 - Loss: 0.6957 - Accuracy: 0.9105\n",
            "Epoch 740/1000 - Loss: 0.6871 - Accuracy: 0.9111\n",
            "Epoch 750/1000 - Loss: 0.6787 - Accuracy: 0.9116\n",
            "Epoch 760/1000 - Loss: 0.6705 - Accuracy: 0.9118\n",
            "Epoch 770/1000 - Loss: 0.6625 - Accuracy: 0.9129\n",
            "Epoch 780/1000 - Loss: 0.6547 - Accuracy: 0.9137\n",
            "Epoch 790/1000 - Loss: 0.6470 - Accuracy: 0.9142\n",
            "Epoch 800/1000 - Loss: 0.6396 - Accuracy: 0.9145\n",
            "Epoch 810/1000 - Loss: 0.6323 - Accuracy: 0.9147\n",
            "Epoch 820/1000 - Loss: 0.6252 - Accuracy: 0.9155\n",
            "Epoch 830/1000 - Loss: 0.6182 - Accuracy: 0.9163\n",
            "Epoch 840/1000 - Loss: 0.6115 - Accuracy: 0.9168\n",
            "Epoch 850/1000 - Loss: 0.6048 - Accuracy: 0.9176\n",
            "Epoch 860/1000 - Loss: 0.5983 - Accuracy: 0.9176\n",
            "Epoch 870/1000 - Loss: 0.5920 - Accuracy: 0.9189\n",
            "Epoch 880/1000 - Loss: 0.5858 - Accuracy: 0.9200\n",
            "Epoch 890/1000 - Loss: 0.5797 - Accuracy: 0.9200\n",
            "Epoch 900/1000 - Loss: 0.5738 - Accuracy: 0.9207\n",
            "Epoch 910/1000 - Loss: 0.5680 - Accuracy: 0.9213\n",
            "Epoch 920/1000 - Loss: 0.5623 - Accuracy: 0.9213\n",
            "Epoch 930/1000 - Loss: 0.5568 - Accuracy: 0.9218\n",
            "Epoch 940/1000 - Loss: 0.5513 - Accuracy: 0.9221\n",
            "Epoch 950/1000 - Loss: 0.5460 - Accuracy: 0.9221\n",
            "Epoch 960/1000 - Loss: 0.5408 - Accuracy: 0.9221\n",
            "Epoch 970/1000 - Loss: 0.5357 - Accuracy: 0.9221\n",
            "Epoch 980/1000 - Loss: 0.5307 - Accuracy: 0.9223\n",
            "Epoch 990/1000 - Loss: 0.5258 - Accuracy: 0.9228\n",
            "Epoch 1000/1000 - Loss: 0.5210 - Accuracy: 0.9228\n"
          ]
        }
      ]
    },
    {
      "cell_type": "code",
      "source": [
        "# Forward pass on test data\n",
        "z1_test = np.dot(X_test, W1) + b1\n",
        "a1_test = relu(z1_test)\n",
        "z2_test = np.dot(a1_test, W2) + b2\n",
        "a2_test = softmax(z2_test)\n",
        "\n",
        "# Evaluate\n",
        "test_loss = cross_entropy(y_test_oh, a2_test)\n",
        "test_acc = accuracy(y_test_oh, a2_test)\n",
        "\n",
        "print(f'\\nTest Loss: {test_loss:.4f} - Test Accuracy: {test_acc:.4f}')\n"
      ],
      "metadata": {
        "colab": {
          "base_uri": "https://localhost:8080/"
        },
        "id": "pzkeQukyRwt5",
        "outputId": "9c5ddec0-46a2-49ef-fd27-ba283b4b15be"
      },
      "execution_count": 28,
      "outputs": [
        {
          "output_type": "stream",
          "name": "stdout",
          "text": [
            "\n",
            "Test Loss: 0.5821 - Test Accuracy: 0.8843\n"
          ]
        }
      ]
    }
  ]
}